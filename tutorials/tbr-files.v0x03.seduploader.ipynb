{
 "cells": [
  {
   "cell_type": "markdown",
   "metadata": {},
   "source": [
    "# The Refinery Files 0x03: SedUpLoader C2s\n",
    "\n",
    "This is a tutorial about extracting the C2 domains from [SedUpLoader] samples. We will be working with the following one:\n",
    "```\n",
    "2396c9dac2184405f7d1f127bec88e56391e4315d4d2e5b951c795fdc1982d59\n",
    "```\n",
    "As always, remember that this is **malware**, do not execute it unless you know exactly what you are doing. For instructions about how to set up [refinery], see the main page and documentation.\n",
    "\n",
    "[refinery]: https://github.com/binref/refinery/\n",
    "[SedUpLoader]: https://malpedia.caad.fkie.fraunhofer.de/details/win.seduploader"
   ]
  },
  {
   "cell_type": "code",
   "execution_count": 1,
   "metadata": {},
   "outputs": [],
   "source": [
    "from tutorials import boilerplate\n",
    "boilerplate.store_sample(\n",
    "    name='a.bin',\n",
    "    hash='2396c9dac2184405f7d1f127bec88e56391e4315d4d2e5b951c795fdc1982d59'\n",
    ")"
   ]
  },
  {
   "cell_type": "code",
   "execution_count": 2,
   "metadata": {},
   "outputs": [
    {
     "name": "stdout",
     "output_type": "stream",
     "text": [
      "42.496 kB 2396c9dac2184405f7d1f127bec88e56391e4315d4d2e5b951c795fdc1982d59 a.bin\n"
     ]
    }
   ],
   "source": [
    "%ls"
   ]
  },
  {
   "cell_type": "markdown",
   "metadata": {},
   "source": [
    "## String Decryption\n",
    "\n",
    "After some reverse engineering, you discover that the function at `0x403FBA` implements the string decryption, which is an XOR with the following 13-byte sequence, stored at the virtual address `0x408b78`:\n",
    "```\n",
    "5f19362c533e6f1a0c6a202e34\n",
    "```\n",
    "Most calls to the string decryption function decrypt a constant string. We can decrypt all of them with the following pipeline:"
   ]
  },
  {
   "cell_type": "code",
   "execution_count": 3,
   "metadata": {},
   "outputs": [
    {
     "name": "stdout",
     "output_type": "stream",
     "text": [
      "00.014 kB: GetProcessHeap\n",
      "00.009 kB: HeapAlloc\n",
      "00.008 kB: HeapFree\n",
      "00.012 kB: LoadLibraryA\n",
      "00.001 kB: m\n",
      "00.001 kB: k\n",
      "00.001 kB: m\n",
      "00.012 kB: rundll32.exe\n",
      "00.043 kB: SYSTEM\\\\CurrentControlSet\\\\Services\\\\Disk\\\\Enum\n",
      "00.004 kB: POST\n",
      "00.005 kB: disk=\n",
      "00.006 kB: build=\n",
      "00.006 kB: inject\n",
      "00.001 kB: w\n",
      "00.012 kB: 0Wf9896@2?91\n",
      "00.014 kB: /%s%s%s/?%s=%s\n",
      "00.004 kB: POST\n",
      "00.012 kB: s3j3hj4g5gy3\n",
      "00.002 kB: ==\n",
      "00.067 kB: Software\\\\Microsoft\\\\Windows\\\\CurrentVersion\\\\Internet Settings\\\\Servers\n",
      "00.006 kB: Domain\n",
      "00.044 kB: google.com\\0\\0\\0\\0\\0\\0\\0\\0\\0\\0\\0\\0\\0\\0\\0\\0\\0\\0\\0\\0\\0\\0\\0\\0\\0\\0\\0\\0\\0\\0\\0\\0\\0\\0\n",
      "00.014 kB: www.google.com\n",
      "00.006 kB: search\n",
      "00.003 kB: GET\n",
      "00.002 kB: q=\n",
      "00.044 kB: google.com\\0\\0\\0\\0\\0\\0\\0\\0\\0\\0\\0\\0\\0\\0\\0\\0\\0\\0\\0\\0\\0\\0\\0\\0\\0\\0\\0\\0\\0\\0\\0\\0\\0\\0\n",
      "00.044 kB: google.com\\0\\0\\0\\0\\0\\0\\0\\0\\0\\0\\0\\0\\0\\0\\0\\0\\0\\0\\0\\0\\0\\0\\0\\0\\0\\0\\0\\0\\0\\0\\0\\0\\0\\0\n",
      "00.002 kB: id\n",
      "00.011 kB: \\xf4\\xfa\\xfb\\x1d\\t\\xc1\\xfa\\xebx\\x80\\v\n",
      "00.067 kB: Software\\\\Microsoft\\\\Windows\\\\CurrentVersion\\\\Internet Settings\\\\Servers\n",
      "00.006 kB: Domain\n",
      "00.004 kB: POST\n",
      "00.001 kB: c\n",
      "00.001 kB: 1\n",
      "00.001 kB: f\n",
      "00.001 kB: l\n",
      "00.001 kB: 2\n",
      "00.001 kB: 2\n",
      "00.006 kB: [file]\n",
      "00.007 kB: Execute\n",
      "00.006 kB: Delete\n",
      "00.007 kB: [/file]\n",
      "00.010 kB: [settings]\n",
      "00.011 kB: [/settings]\n",
      "00.008 kB: FileName\n",
      "00.010 kB: PathToSave\n",
      "00.006 kB: Rundll\n",
      "00.002 kB: IP\n",
      "00.018 kB: network.proxy.http\n",
      "00.023 kB: network.proxy.http_port\n",
      "00.019 kB: https=https://%s:%s\n",
      "00.029 kB: QAaPEnNgrVdlZWbfGCsbmeS9hWSNS\n"
     ]
    }
   ],
   "source": [
    "%emit a.bin [| put bin | rex \"\\x6A([^\\0])\\x68(.{4})\" {1}{2} | struct {n:B}{a:L} {bin} | vsnip -Q a:n | xor h:5f19362c533e6f1a0c6a202e34 | peek -be ]]"
   ]
  },
  {
   "cell_type": "markdown",
   "metadata": {},
   "source": [
    "That is a little disappointing; this doesn't look like we found the C2 servers. It'd still be nice to understand how that pipeline works, so, let's take it apart step by step:\n",
    "\n",
    "1. First, we use [emit] to output the contents of the malware sample.\n",
    "2. We then use [put] to store the contents of the current chunk in a meta variable called `bin`. This creates a \"backup\" copy of the data, because we are about the change the contents of the buffer.\n",
    "3. We run [rex] to search for the opcode sequence of pushing a nonzero byte and a 32bit-integer address to the stack - these are our candidates for the length and address of an encrypted string as they are being passed to the string decryption function. The output of [rex] is defined by the format string `{1}{2}` which means to simply concatenate the first and second match group - in this case, this will be the single byte encoding the string length and the four bytes encoding its address.\n",
    "4. We use the [struct] unit to parse the integers from the opcode sequence: The struct format `{n:B}{a:L}` contains two format fields: `{n:B}` to read the one-byte string length value into the variable `n`, and `{a:L}` to read the 4-byte string address value into the variable `a`. Finally, the last argument of this [struct] call is `{bin}`, which defines the body of the output. This variable still contains the contents of `a.bin` and after this command, the output will be several copies of `a.bin`, and each of them has meta variables `a` and `n` defined, specifying the virtual address and length of what is likely an encrypted string.\n",
    "5. We use [vsnip] with the argument `a:n` to extract the `n` bytes at the virtual address `a`. We also specify the quiet flag `-Q` to silence warnings that will inevitably happen because some of the opcode sequences we extracted are false positives.\n",
    "6. We should now be looking at a stream of encrypted strings, each of which we decrypt by using the [xor] unit.\n",
    "7. We use [peek] with the `--brief` and `--esc` options to get an overview of all the strings we decrypted.\n",
    "\n",
    "[emit]: https://binref.github.io/#refinery.emit\n",
    "[peek]: https://binref.github.io/#refinery.peek\n",
    "[put]: https://binref.github.io/#refinery.put\n",
    "[rex]: https://binref.github.io/#refinery.rex\n",
    "[struct]: https://binref.github.io/#refinery.struct\n",
    "[vsnip]: https://binref.github.io/#refinery.vsnip\n",
    "[xor]: https://binref.github.io/#refinery.xor"
   ]
  },
  {
   "cell_type": "markdown",
   "metadata": {},
   "source": [
    "## C2 Servers\n",
    "\n",
    "After looking around some more, it turns out that there is a single call to the string decryption function that does not receive a constant argument. The call is at `0x405837` and it is used to decrypt four chunks of size `44` each, starting at offset `0x408bf0`. No need to be coy about it - this is indeed the C2 server list, except for the first entry, which is a domain used for connectivity checks (it's `google.com` in this sample). Decrypting the C2 servers is now fairly straightforward:\n",
    "\n",
    "[push]: https://binref.github.io/#refinery.push\n",
    "[pop]: https://binref.github.io/#refinery.pop"
   ]
  },
  {
   "cell_type": "code",
   "execution_count": 4,
   "metadata": {},
   "outputs": [
    {
     "name": "stdout",
     "output_type": "stream",
     "text": [
      "00.012 kB: google[.]com\n",
      "00.027 kB: microsoftstoreservice[.]com\n",
      "00.017 kB: servicetlnt[.]net\n",
      "00.019 kB: windowsdefltr[.]net\n"
     ]
    }
   ],
   "source": [
    "%emit a.bin | vsnip 0x408bf0:4*44 | chop 44 [| xor h:5f19362c533e6f1a0c6a202e34 | trim h:00 | defang | peek -be ]]"
   ]
  },
  {
   "cell_type": "markdown",
   "metadata": {},
   "source": [
    "We have again used the [vsnip] unit to read data from a virtual address, in this case we read `4*44` (this expression will be evaluated to `176`) bytes from the address where the encrypted C2 array is stored, and then we [chop] this buffer into 4 buffers, each of which has length `44`. Then, we use a frame to decrypt each of these buffers with the XOR key. To make the output prettier, we [trim] trailing null bytes and [defang] the network indicators before we have a [peek].\n",
    "\n",
    "[chop]: https://binref.github.io/#refinery.chop\n",
    "[defang]: https://binref.github.io/#refinery.defang\n",
    "[peek]: https://binref.github.io/#refinery.peek\n",
    "[trim]: https://binref.github.io/#refinery.trim\n",
    "[vsnip]: https://binref.github.io/#refinery.vsnip"
   ]
  },
  {
   "cell_type": "markdown",
   "metadata": {},
   "source": [
    "This is nice and all, but let's use this opportunity to learn about [push] and [pop]. The goal is to avoid having to hard-code the key into the pipeline, so we would like to use [vsnip] to first extract the key, and then again to extract the C2 server list. The finished pipeline looks as follows:\n",
    "\n",
    "[push]: https://binref.github.io/#refinery.push\n",
    "[pop]: https://binref.github.io/#refinery.pop\n",
    "[vsnip]: https://binref.github.io/#refinery.vsnip"
   ]
  },
  {
   "cell_type": "code",
   "execution_count": 5,
   "metadata": {},
   "outputs": [
    {
     "name": "stdout",
     "output_type": "stream",
     "text": [
      "------------------------------------------------------------------------------------------------------------------------\n",
      "42.496 kB; 79.26% entropy; PE32 executable (GUI) Intel 80386, for MS Windows\n",
      "  key = h:5f19362c533e6f1a0c6a202e34\n",
      "------------------------------------------------------------------------------------------------------------------------\n",
      "00000: 4D 5A 90 00 03 00 00 00 04 00 00 00 FF FF 00 00 B8 00 00 00 00 00 00 00 40 00 00 00  MZ......................@...\n",
      "0001C: 00 00 00 00 00 00 00 00 00 00 00 00 00 00 00 00 00 00 00 00 00 00 00 00 00 00 00 00  ............................\n",
      "00038: 00 00 00 00 D8 00 00 00 0E 1F BA 0E 00 B4 09 CD 21 B8 01 4C CD 21 54 68 69 73 20 70  ................!..L.!This.p\n",
      "00054: 72 6F 67 72 61 6D 20 63 61 6E 6E 6F 74 20 62 65 20 72 75 6E 20 69 6E 20 44 4F 53 20  rogram.cannot.be.run.in.DOS.\n",
      "00070: 6D 6F 64 65 2E 0D 0D 0A 24 00 00 00 00 00 00 00 29 9B A4 67 6D FA CA 34 6D FA CA 34  mode....$.......)..gm..4m..4\n",
      "------------------------------------------------------------------------------------------------------------------------\n",
      "00.012 kB: google[.]com\n",
      "00.027 kB: microsoftstoreservice[.]com\n",
      "00.017 kB: servicetlnt[.]net\n",
      "00.019 kB: windowsdefltr[.]net\n"
     ]
    }
   ],
   "source": [
    "%emit a.bin | push [| vsnip 0x408b78:13 | pop key | peek -l5 | vsnip 0x408bf0:4*44 | chop 44 [| xor var:key | trim h:00 | defang | peek -be ]]"
   ]
  },
  {
   "cell_type": "markdown",
   "metadata": {},
   "source": [
    "The [push] unit creates a hidden copy of the current chunk and inserts it at the end of the current frame. Hence, after the [push] instruction, the frame contains a visible copy of the sample data, and one invisible copy. Invisible chunks are passed on along the frame, but refinery units to not operate on them. Hence, the first [vsnip] command is only executed on the visible chunk, extracting the 13 key bytes from their known address. The invocation of [pop] does two things: It takes the first visible chunk in the current frame and associates it with the variable `key`. Then, it makes all remaining chunks visible again and attaches the variable `key` to them. In this case, we end up with a copy of the original sample, with a variable named `key`, containing the decryption key. Everything after that is identical to the previous pipeline, with the exception that we can now pass the variable `key` to the [xor] unit rather than the hardcoded value.\n",
    "\n",
    "[push]: https://binref.github.io/#refinery.push\n",
    "[pop]: https://binref.github.io/#refinery.pop\n",
    "[vsnip]: https://binref.github.io/#refinery.vsnip\n",
    "[xor]: https://binref.github.io/#refinery.xor"
   ]
  },
  {
   "cell_type": "markdown",
   "metadata": {},
   "source": [
    "## Automatic C2 Extraction\n",
    "\n",
    "Finally, let us combine the techniques we have seen into a pipeline that can (in some cases) extract the C2 configuration data from SedUpLoader samples:"
   ]
  },
  {
   "cell_type": "code",
   "execution_count": 6,
   "metadata": {},
   "outputs": [
    {
     "name": "stdout",
     "output_type": "stream",
     "text": [
      "00.012 kB: google[.]com\n",
      "00.027 kB: microsoftstoreservice[.]com\n",
      "00.017 kB: servicetlnt[.]net\n",
      "00.019 kB: windowsdefltr[.]net\n"
     ]
    }
   ],
   "source": [
    "%%emit a.bin [\n",
    "    | push\n",
    "    | put bin\n",
    "    | rex \"\\xc7\\x45(.)(.\\0{3}).{0,4}\\xf7\\x75\\1\\x8a\\x82(....)\\x32\\x04\\x0F\" {2}{3}\n",
    "    | struct {kl:L}{ka:L} {bin}\n",
    "    | vsnip ka:kl\n",
    "    | pop key\n",
    "    | put bin\n",
    "    | rex \"\\xB8(....).{0,10}\\x6A(.)\\x50\\xE8\" {1}{2}\n",
    "    | struct {a:L}{n:B} {bin}\n",
    "    | vsnip a\n",
    "    | chop n [\n",
    "        | xor var:key\n",
    "        | trim h:00\n",
    "        | iffp domain\n",
    "        | defang\n",
    "        | peek -be ]]"
   ]
  },
  {
   "cell_type": "markdown",
   "metadata": {},
   "source": [
    "This combines the techniques from the previous two sections. Here is a quick overview of how the pipeline works. The first regular expression looks for the following opcode sequence from the string decryption function, where `X` is the stack offset of the chunk size variable, `Y` is the chunk size value, and `Z` is the address of the key string:\n",
    "```\n",
    "    00403fe0  c7 45 XX YY YY YY YY   MOV   dword ptr [EBP + X], Y\n",
    "              ...\n",
    "    00403fe9  f7 75 XX               DIV   dword ptr [EBP + X]\n",
    "    00403fec  8a 82 ZZ ZZ ZZ ZZ      MOV   AL, byte ptr [EDX + Z]\n",
    "    00403ff2  32 04 0f               XOR   AL, byte ptr [EDI + ECX*0x1]\n",
    "```\n",
    "We use [push]/[pop] as in the previous pipeline, except that we did not hard-code the offset of the key buffer, but instead searched for a characteristic opcode sequence to determine the address. The second regular expression looks for the following opcode sequence from the code that decrypts the C2 servers:\n",
    "```\n",
    "    0040582a  b8 XX XX XX XX         MOV   EAX, X\n",
    "              ...\n",
    "    00405834  6a YY                  PUSH  Y\n",
    "    00405836  50                     PUSH  EAX\n",
    "    00405837  e8 7e e7 ff ff         CALL  STRING_DECRYPT\n",
    "```\n",
    "The value `X` is the address of the list and `Y` contains the size of each chunk. The former is then stored in the variable `a`, the latter in the variable `n`. After having determined these values, we can again proceed as in the previous pipeline with a few modifications: We [vsnip] _all_ memory starting at `a`, then [chop] it into chunks of size `n` and decrypt them. Now, we have likely extracted and decrypted quite a few chunks that are not actually C2 domains. To filter them out, we use the [iffp] unit: It takes as its parameter the name of any pattern known to [carve] and [xtp] and removes any chunk from the frame that does not match this pattern. In this case, we will only forward chunks that look like a domain. And that's it - a somewhat automatic SedUpLoader config extractor in refinery!\n",
    "\n",
    "[push]: https://binref.github.io/#refinery.push\n",
    "[pop]: https://binref.github.io/#refinery.pop\n",
    "[vsnip]: https://binref.github.io/#refinery.vsnip\n",
    "[chop]: https://binref.github.io/#refinery.chop\n",
    "[iffp]: https://binref.github.io/#refinery.iffp\n",
    "[carve]: https://binref.github.io/#refinery.carve\n",
    "[xtp]: https://binref.github.io/#refinery.xtp\n",
    "[xor]: https://binref.github.io/#refinery.xor"
   ]
  }
 ],
 "metadata": {
  "interpreter": {
   "hash": "4bb4b02bf57a2c25456a741474d02d2de926aec3c451f22b312ec34f66909bb4"
  },
  "kernelspec": {
   "display_name": "Python 3.9.7 ('venv': venv)",
   "language": "python",
   "name": "python3"
  },
  "language_info": {
   "codemirror_mode": {
    "name": "ipython",
    "version": 3
   },
   "file_extension": ".py",
   "mimetype": "text/x-python",
   "name": "python",
   "nbconvert_exporter": "python",
   "pygments_lexer": "ipython3",
   "version": "3.9.7"
  },
  "orig_nbformat": 4
 },
 "nbformat": 4,
 "nbformat_minor": 2
}
